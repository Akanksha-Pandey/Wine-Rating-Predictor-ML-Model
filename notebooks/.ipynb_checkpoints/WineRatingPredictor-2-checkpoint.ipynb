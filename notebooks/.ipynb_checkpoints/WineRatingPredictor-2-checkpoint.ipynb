{
 "cells": [
  {
   "cell_type": "markdown",
   "metadata": {
    "hide_input": false
   },
   "source": [
    "# Set Metric-Establish Baseline-Model Selection-Hyperparameter Tuning"
   ]
  },
  {
   "cell_type": "markdown",
   "metadata": {},
   "source": [
    "This notebook will perform steps 4 and 5:\n",
    "\n",
    "4. Set Evaluation Metric & Establish Baseline\n",
    "5. Model Selection & Tune Hyperparameters of the Model"
   ]
  },
  {
   "cell_type": "markdown",
   "metadata": {},
   "source": [
    "**Imports**"
   ]
  },
  {
   "cell_type": "code",
   "execution_count": 1,
   "metadata": {},
   "outputs": [],
   "source": [
    "# manipulation libraries\n",
    "import pandas as pd\n",
    "import numpy as np\n",
    "\n",
    "# visualization libraries\n",
    "import matplotlib.pyplot as plt\n",
    "import seaborn as sns\n",
    "\n",
    "%matplotlib inline\n",
    "# to display visuals in the notebook\n",
    "\n",
    "%config InlineBackend.figure_format='retina'\n",
    "#to enable high resolution plots\n",
    "\n",
    "# normalization and random-search and error metric\n",
    "from sklearn.model_selection import RandomizedSearchCV\n",
    "from sklearn.preprocessing import StandardScaler\n",
    "from sklearn.metrics import mean_squared_error\n",
    "\n",
    "# potential machine Learning Models\n",
    "from sklearn.linear_model import LinearRegression\n",
    "from sklearn.neighbors import KNeighborsRegressor\n",
    "from sklearn.svm import SVR\n",
    "from sklearn.ensemble import RandomForestRegressor\n",
    "from sklearn.ensemble import ExtraTreesRegressor\n",
    "import lightgbm as lgb\n",
    "\n",
    "# to save machine Learning Models\n",
    "import pickle"
   ]
  },
  {
   "cell_type": "code",
   "execution_count": 2,
   "metadata": {},
   "outputs": [],
   "source": [
    "# functions to use in the notebook\n",
    "def fit_evaluate_model(model, X_train, y_train, \n",
    "                       X_valid, y_valid):\n",
    "    # function to train a given model\n",
    "    # return mean squared error of the\n",
    "    # actuals and predictions\n",
    "    model.fit(X_train, y_train)\n",
    "    y_predicted = model.predict(X_valid)\n",
    "    return mean_squared_error(y_valid, y_predicted)\n",
    "\n",
    "def convert_features_to_array(features):\n",
    "    # function to convert feature df\n",
    "    # to an array\n",
    "    num_rows = len(features)\n",
    "    num_cols = len(features.columns)\n",
    "    \n",
    "    features_array = (np\n",
    "                      .array(features)\n",
    "                      .reshape((num_rows, \n",
    "                                num_cols)))\n",
    "\n",
    "    return features_array\n",
    "\n",
    "def convert_target_to_array(target):\n",
    "    # function to convert target df\n",
    "    # to an array\n",
    "    target_array = (np\n",
    "                    .array(target)\n",
    "                    .reshape((-1, )))\n",
    "    return target_array"
   ]
  },
  {
   "cell_type": "markdown",
   "metadata": {},
   "source": [
    "**Load data and convert to array:**"
   ]
  },
  {
   "cell_type": "code",
   "execution_count": 3,
   "metadata": {},
   "outputs": [],
   "source": [
    "X_train = pd.read_csv(\"transformed/X_train.csv\")\n",
    "y_train = pd.read_csv(\"transformed/y_train.csv\")\n",
    "\n",
    "X_valid = pd.read_csv(\"transformed/X_valid.csv\")\n",
    "y_valid = pd.read_csv(\"transformed/y_valid.csv\")"
   ]
  },
  {
   "cell_type": "code",
   "execution_count": 4,
   "metadata": {},
   "outputs": [],
   "source": [
    "y_train_array = convert_target_to_array(y_train)\n",
    "y_valid_array = convert_target_to_array(y_valid)\n",
    "\n",
    "X_train_array = convert_features_to_array(X_train)\n",
    "X_valid_array = convert_features_to_array(X_valid)"
   ]
  },
  {
   "cell_type": "markdown",
   "metadata": {},
   "source": [
    "## Set Metric & Establish Evaluation Baseline"
   ]
  },
  {
   "cell_type": "markdown",
   "metadata": {},
   "source": [
    "### Set Metric"
   ]
  },
  {
   "cell_type": "markdown",
   "metadata": {},
   "source": [
    "***Mean square error (MSE)*** is the average of sum of squared residuals where a ***residual*** is the a difference between the actual and predicted value of a target variable. In other words, we are going to evaluate our model by looking at the measure of how large our squared errors (residuals) are spread out.\n",
    "\n",
    "Mean square error is selected as an error metric, because it is interpretable, it is analogous to variance and it also aligns with our selected algorithm's error minimization criteria.  \n",
    "\n",
    "On the other hand, this error metric is sensitive to extreme values or outliers. Since it takes the square of the differences between the actuals and predictions, in the presence of extreme values and outliers difference grows quadratically."
   ]
  },
  {
   "cell_type": "markdown",
   "metadata": {},
   "source": [
    "###  Establish Baseline"
   ]
  },
  {
   "cell_type": "markdown",
   "metadata": {},
   "source": [
    "Before building moving to the model selection we are going to construct a common-sense baseline with MSE. A ***common-sense baseline*** can be explained as generating a naive guess of the target value by using some expert knowledge or few lines of code.\n",
    "\n",
    "We are going to select and tune the models that beats this baseline at a significant level. If any of them cannot beat it then machine learning may not be the best approach to solve this problem or whole preprocessing steps needs re-consideration. For our regression problem, a simple common-sense baseline is to predict the variance of the mean of the training set to the validation set. This approach aligns with our evaluation metric MSE as well."
   ]
  },
  {
   "cell_type": "code",
   "execution_count": 5,
   "metadata": {},
   "outputs": [
    {
     "data": {
      "text/plain": [
       "88.45000745045448"
      ]
     },
     "execution_count": 5,
     "metadata": {},
     "output_type": "execute_result"
    }
   ],
   "source": [
    "# set baseline as mean of training set's target value\n",
    "baseline = (np\n",
    "            .mean(\n",
    "                y_train_array))\n",
    "baseline"
   ]
  },
  {
   "cell_type": "code",
   "execution_count": 6,
   "metadata": {},
   "outputs": [
    {
     "name": "stdout",
     "output_type": "stream",
     "text": [
      "Baseline error is: 9.01\n"
     ]
    }
   ],
   "source": [
    "# calculate MSE baseline\n",
    "mse_baseline = (np\n",
    "                .mean(\n",
    "                    np.square(\n",
    "                        baseline - y_valid_array)))\n",
    "\n",
    "print(\"Baseline error is:\", round(mse_baseline, 2))"
   ]
  },
  {
   "cell_type": "markdown",
   "metadata": {},
   "source": [
    "This shows that on average variance between the training points and validation points are 9.01. In other words, sum of squared residuals of average of training points to the validation points is 9.01."
   ]
  },
  {
   "cell_type": "markdown",
   "metadata": {},
   "source": [
    "## Model Selection"
   ]
  },
  {
   "cell_type": "markdown",
   "metadata": {},
   "source": [
    "We are going to try one linear algorithm, two distance-based algorithm and three tree-based algorithms:\n",
    "* Linear regression\n",
    "* K-nearest neighbors\n",
    "* Support vector machines\n",
    "* Random forests regressor\n",
    "* Extra trees regressor\n",
    "* Light gradient boostin machines\n",
    "\n",
    "We are going to train them with the training datasets, and compare their performances by looking at the MSE of the predictions of the validation set.\n",
    "\n",
    "For now, we will not go into the details of each model, we will observe the run time and the mean squared error reported by each model. We will elaborate on the best model in the last notebook."
   ]
  },
  {
   "cell_type": "markdown",
   "metadata": {},
   "source": [
    "### Linear Regresssion"
   ]
  },
  {
   "cell_type": "code",
   "execution_count": 7,
   "metadata": {},
   "outputs": [
    {
     "name": "stdout",
     "output_type": "stream",
     "text": [
      "MSE of linear regression: 7.270291026593921\n",
      "CPU times: user 33 ms, sys: 7.95 ms, total: 41 ms\n",
      "Wall time: 22.7 ms\n"
     ]
    }
   ],
   "source": [
    "%%time\n",
    "# linear regression\n",
    "lr = LinearRegression()\n",
    "mse_lr=fit_evaluate_model(lr, \n",
    "                          X_train_array, \n",
    "                          y_train_array, \n",
    "                          X_valid_array, \n",
    "                          y_valid_array)\n",
    "\n",
    "print(\"MSE of linear regression:\", mse_lr)"
   ]
  },
  {
   "cell_type": "markdown",
   "metadata": {},
   "source": [
    "Linear regression slightly decreased the baseline metric, showing that it is not a candidate to be a good predictor."
   ]
  },
  {
   "cell_type": "markdown",
   "metadata": {},
   "source": [
    "### Normalize Datasets for KNN and SVM"
   ]
  },
  {
   "cell_type": "markdown",
   "metadata": {
    "hide_input": false
   },
   "source": [
    "Distance-based models use the euclidian distance to train the models, thus varying ranges causes distance-based models to generate inaccurate predictions. In order to try different distance-based models, we are going to scale down the features with normalization."
   ]
  },
  {
   "cell_type": "code",
   "execution_count": 8,
   "metadata": {},
   "outputs": [],
   "source": [
    "# create scaler\n",
    "scaler = StandardScaler()\n",
    "\n",
    "# apply normalization to training set and transform training set\n",
    "X_train_array_scaled = (scaler\n",
    "                        .fit_transform(\n",
    "                            X_train_array, y_train_array))\n",
    "\n",
    "# transform validation set\n",
    "X_valid_array_scaled = scaler.transform(X_valid_array)"
   ]
  },
  {
   "cell_type": "markdown",
   "metadata": {},
   "source": [
    "### K Nearest Neighbors Regressor"
   ]
  },
  {
   "cell_type": "code",
   "execution_count": 9,
   "metadata": {},
   "outputs": [
    {
     "name": "stdout",
     "output_type": "stream",
     "text": [
      "MSE of knn regressor: 6.379597675458203\n",
      "CPU times: user 204 ms, sys: 2.1 ms, total: 206 ms\n",
      "Wall time: 205 ms\n"
     ]
    }
   ],
   "source": [
    "%%time\n",
    "knn = KNeighborsRegressor()\n",
    "mse_knn = fit_evaluate_model(knn,\n",
    "                             X_train_array_scaled, \n",
    "                             y_train_array, \n",
    "                             X_valid_array_scaled, \n",
    "                             y_valid_array)\n",
    "\n",
    "print(\"MSE of knn regressor:\", mse_knn)"
   ]
  },
  {
   "cell_type": "markdown",
   "metadata": {},
   "source": [
    "K-nearest regressor performed better than the lienar regression however, MSE is still high, showing that this algorithm is not a good predictor."
   ]
  },
  {
   "cell_type": "markdown",
   "metadata": {},
   "source": [
    "### Support Vector Machines Regressor"
   ]
  },
  {
   "cell_type": "code",
   "execution_count": 10,
   "metadata": {},
   "outputs": [
    {
     "name": "stdout",
     "output_type": "stream",
     "text": [
      "MSE of Support Vector Machines: 5.8606014919063485\n",
      "CPU times: user 1.92 s, sys: 89.7 ms, total: 2.01 s\n",
      "Wall time: 2.01 s\n"
     ]
    }
   ],
   "source": [
    "%%time\n",
    "svm = SVR()\n",
    "mse_svm = fit_evaluate_model(svm,\n",
    "                             X_train_array_scaled, \n",
    "                             y_train_array, \n",
    "                             X_valid_array_scaled, \n",
    "                             y_valid_array)\n",
    "\n",
    "print('MSE of Support Vector Machines:', mse_svm)"
   ]
  },
  {
   "cell_type": "markdown",
   "metadata": {},
   "source": [
    "Support vector machines performed better than the k-nearest neighbors at a higher run-time. All in all MSE decreased 35% showing that this algorithm might be a candidate for a building a good predictor."
   ]
  },
  {
   "cell_type": "markdown",
   "metadata": {},
   "source": [
    "### Random Forests Regressor"
   ]
  },
  {
   "cell_type": "code",
   "execution_count": 11,
   "metadata": {},
   "outputs": [
    {
     "name": "stdout",
     "output_type": "stream",
     "text": [
      "MSE of Random Forests 5.405547117765815\n",
      "CPU times: user 1.85 s, sys: 25 ms, total: 1.88 s\n",
      "Wall time: 1.89 s\n"
     ]
    }
   ],
   "source": [
    "%%time\n",
    "rf = RandomForestRegressor(random_state=42)\n",
    "mse_rf = fit_evaluate_model(rf,\n",
    "                            X_train_array,\n",
    "                            y_train_array,\n",
    "                            X_valid_array,\n",
    "                            y_valid_array)\n",
    "\n",
    "print(\"MSE of Random Forests\", mse_rf)"
   ]
  },
  {
   "cell_type": "markdown",
   "metadata": {},
   "source": [
    "Random forests performed better than the support vector machines at less run-times. It decreased the MSE 44% percent, and replaced support vector machines from the good-predictor list."
   ]
  },
  {
   "cell_type": "markdown",
   "metadata": {},
   "source": [
    "### Extra Trees Regressor"
   ]
  },
  {
   "cell_type": "code",
   "execution_count": 12,
   "metadata": {},
   "outputs": [
    {
     "name": "stdout",
     "output_type": "stream",
     "text": [
      "MSE of Random Forests 5.925980256295634\n",
      "CPU times: user 1.44 s, sys: 31.8 ms, total: 1.47 s\n",
      "Wall time: 1.47 s\n"
     ]
    }
   ],
   "source": [
    "%%time\n",
    "xrf = ExtraTreesRegressor(random_state=42)\n",
    "mse_xrf = fit_evaluate_model(xrf,\n",
    "                             X_train_array,\n",
    "                             y_train_array,\n",
    "                             X_valid_array,\n",
    "                             y_valid_array)\n",
    "\n",
    "print(\"MSE of Random Forests\", mse_xrf)"
   ]
  },
  {
   "cell_type": "markdown",
   "metadata": {},
   "source": [
    "Extra-trees regressor performed worse than the random forests and support vector machines, thus it showed that it is not a good candidate for a good predictor."
   ]
  },
  {
   "cell_type": "markdown",
   "metadata": {},
   "source": [
    "### Light Gradient Boosting Regressor"
   ]
  },
  {
   "cell_type": "code",
   "execution_count": 13,
   "metadata": {},
   "outputs": [
    {
     "name": "stdout",
     "output_type": "stream",
     "text": [
      "MSE of light gradient boosting algorithm 4.968934649974784\n",
      "CPU times: user 856 ms, sys: 26.2 ms, total: 882 ms\n",
      "Wall time: 133 ms\n"
     ]
    }
   ],
   "source": [
    "%%time\n",
    "lgbm = lgb.LGBMRegressor(random_state=42)\n",
    "mse_lgbm = fit_evaluate_model(lgbm,\n",
    "                              X_train_array,\n",
    "                              y_train_array,\n",
    "                              X_valid_array,\n",
    "                              y_valid_array)\n",
    "\n",
    "print(\"MSE of light gradient boosting algorithm\", mse_lgbm)"
   ]
  },
  {
   "cell_type": "markdown",
   "metadata": {},
   "source": [
    "Light gradient boosting machines has the best performance of all tried models. It also lowered the baseline MSE 45% and showed that it is a potential candidate for a good predictor at a lower run time."
   ]
  },
  {
   "cell_type": "markdown",
   "metadata": {},
   "source": [
    "### Findings from model selection"
   ]
  },
  {
   "cell_type": "code",
   "execution_count": 14,
   "metadata": {},
   "outputs": [
    {
     "data": {
      "text/plain": [
       "Text(0.5, 1.0, 'MSE of Different Algorithms')"
      ]
     },
     "execution_count": 14,
     "metadata": {},
     "output_type": "execute_result"
    },
    {
     "data": {
      "image/png": "[encoded data removed]",
      "text/plain": [
       "<Figure size 720x720 with 1 Axes>"
      ]
     },
     "metadata": {
      "image/png": {
       "height": 615,
       "width": 772
      },
      "needs_background": "light"
     },
     "output_type": "display_data"
    }
   ],
   "source": [
    "# create dataframe of mse and model and sort values\n",
    "performance_comparison = pd.DataFrame({\"Model\": \n",
    "                                       [\"Linear Regression\", \"K-Nearest Neighbors\", \n",
    "                                        \"Support Vector Machines\", \"Random Forest\", \n",
    "                                        \"Light GBM\"],\n",
    "                                       \"MSE\": \n",
    "                                       [mse_lr, mse_knn, mse_svm, \n",
    "                                        mse_rf, mse_lgbm]})\n",
    "\n",
    "performance_comparison = performance_comparison.sort_values(by=\"MSE\", ascending=True)\n",
    "\n",
    "\n",
    "# set the font and size\n",
    "plt.rcParams['font.size'] = 14\n",
    "plt.figure(figsize=(10,10))\n",
    "\n",
    "# set color\n",
    "labels = np.array(performance_comparison.Model)\n",
    "values = np.array(performance_comparison.MSE) \n",
    "# colors = [\"#808080\" if y > 5.0 else \"#971539\" for y in values]\n",
    "colors = [\"#971539\", \"#971539\", \"#808080\", \"#808080\", \"#808080\"]\n",
    "            \n",
    "ax = sns.barplot(x=\"MSE\", \n",
    "                 y=\"Model\", \n",
    "                 data=performance_comparison,\n",
    "                 palette = colors)\n",
    "\n",
    "# set title arrange labels\n",
    "plt.yticks(size = 14)\n",
    "plt.xticks(size = 14)\n",
    "plt.title(\"MSE of Different Algorithms\", size=16)"
   ]
  },
  {
   "cell_type": "markdown",
   "metadata": {},
   "source": [
    "Random forests and light gradient boosting algorithms showed that they are potential good predictors for a wine rating predictor. Both decreased baseline MSE more than 40%. In the following part, we are going to look for further improvements in both models by using random search with cross validation and hyperparameter tuning."
   ]
  },
  {
   "cell_type": "markdown",
   "metadata": {},
   "source": [
    "## Tune Hyperparameters of the Models"
   ]
  },
  {
   "cell_type": "markdown",
   "metadata": {},
   "source": [
    "We are going to search for the best set of parameters with random search and k-fold cross validation.\n",
    "\n",
    "***Random search*** is the process of randomly combination of the defined parameters and compares the defined score (mean squared error, for this problem) with iterations. So, the most optimal set might be different than the random search results. However, this search algorithm is fast and run-time efficient.\n",
    "\n",
    "***K-fold Cross Validation*** is the method used to assess the performance of the hyperparameters on the whole dataset. Rather than splitting the dataset set into 2 static subsets of training and validation set, dataset is divided equally for the given K. Then the model is trained with K-1 subsets and tested on Kth subset iteratively. This process makes each process more robust."
   ]
  },
  {
   "cell_type": "code",
   "execution_count": 15,
   "metadata": {},
   "outputs": [],
   "source": [
    "# add dataframes back for to perform random search and cross-validation\n",
    "X = pd.concat([X_train, X_valid])\n",
    "y = pd.concat([y_train, y_valid])\n",
    "\n",
    "X_array = convert_features_to_array(X)\n",
    "y_array = convert_target_to_array(y)"
   ]
  },
  {
   "cell_type": "markdown",
   "metadata": {},
   "source": [
    "### Light GBM"
   ]
  },
  {
   "cell_type": "markdown",
   "metadata": {},
   "source": [
    "Parameters to be optimized:\n",
    "\n",
    "* boosting type: tree optimization method, default is gdbt\n",
    "* n_estimators: number of trees to be used in the model, default is 100.\n",
    "* learning_rate: how fast algorithm optimizes the built trees, default is 0.1\n",
    "* colsample_bytree : subsample ratio of columns when constructing each tree, default is 1."
   ]
  },
  {
   "cell_type": "code",
   "execution_count": 16,
   "metadata": {},
   "outputs": [],
   "source": [
    "# define search parameters\n",
    "boosting_type = [\"gbdt\", \"dart\", \"goss\", \"rf\"]\n",
    "n_estimators = [100, 200, 300, 500, 1000]\n",
    "learning_rate = [0.01, 0.02, 0.05, 0.1]\n",
    "colsample_bytree = [0.5, 0.6, 0.7, 0.8, 0.9, 1]\n",
    "\n",
    "# Define the grid of hyperparameters to search\n",
    "hyperparameter_grid = {\"boosting_type\": boosting_type,\n",
    "                       \"n_estimators\": n_estimators,\n",
    "                       \"learning_rate\": learning_rate,\n",
    "                       \"colsample_bytree\": colsample_bytree\n",
    "                       }"
   ]
  },
  {
   "cell_type": "code",
   "execution_count": 17,
   "metadata": {},
   "outputs": [
    {
     "name": "stdout",
     "output_type": "stream",
     "text": [
      "Fitting 4 folds for each of 25 candidates, totalling 100 fits\n"
     ]
    },
    {
     "name": "stderr",
     "output_type": "stream",
     "text": [
      "[Parallel(n_jobs=-1)]: Using backend LokyBackend with 8 concurrent workers.\n",
      "[Parallel(n_jobs=-1)]: Done  34 tasks      | elapsed:    6.1s\n",
      "[Parallel(n_jobs=-1)]: Done 100 out of 100 | elapsed:   21.2s finished\n"
     ]
    },
    {
     "data": {
      "text/plain": [
       "RandomizedSearchCV(cv=4, error_score=nan,\n",
       "                   estimator=LGBMRegressor(boosting_type='gbdt',\n",
       "                                           class_weight=None,\n",
       "                                           colsample_bytree=1.0,\n",
       "                                           importance_type='split',\n",
       "                                           learning_rate=0.1, max_depth=-1,\n",
       "                                           min_child_samples=20,\n",
       "                                           min_child_weight=0.001,\n",
       "                                           min_split_gain=0.0, n_estimators=100,\n",
       "                                           n_jobs=-1, num_leaves=31,\n",
       "                                           objective=None, random_state=42,\n",
       "                                           reg_alpha=0.0, reg_lambda=0.0,\n",
       "                                           silent=...\n",
       "                                           subsample_freq=0),\n",
       "                   iid='deprecated', n_iter=25, n_jobs=-1,\n",
       "                   param_distributions={'boosting_type': ['gbdt', 'dart',\n",
       "                                                          'goss', 'rf'],\n",
       "                                        'colsample_bytree': [0.5, 0.6, 0.7, 0.8,\n",
       "                                                             0.9, 1],\n",
       "                                        'learning_rate': [0.01, 0.02, 0.05,\n",
       "                                                          0.1],\n",
       "                                        'n_estimators': [100, 200, 300, 500,\n",
       "                                                         1000]},\n",
       "                   pre_dispatch='2*n_jobs', random_state=42, refit=True,\n",
       "                   return_train_score=True, scoring='neg_mean_squared_error',\n",
       "                   verbose=1)"
      ]
     },
     "execution_count": 17,
     "metadata": {},
     "output_type": "execute_result"
    }
   ],
   "source": [
    "# create randomized search object\n",
    "lgbm_random_cv = RandomizedSearchCV(estimator=lgbm,\n",
    "                                    param_distributions=hyperparameter_grid,\n",
    "                                    cv=4, n_iter=25,\n",
    "                                    scoring='neg_mean_squared_error',\n",
    "                                    n_jobs=-1, verbose=1,\n",
    "                                    return_train_score=True,\n",
    "                                    random_state=42)\n",
    "\n",
    "lgbm_random_cv.fit(X, y)"
   ]
  },
  {
   "cell_type": "code",
   "execution_count": 18,
   "metadata": {},
   "outputs": [
    {
     "data": {
      "text/plain": [
       "LGBMRegressor(boosting_type='gbdt', class_weight=None, colsample_bytree=0.5,\n",
       "              importance_type='split', learning_rate=0.02, max_depth=-1,\n",
       "              min_child_samples=20, min_child_weight=0.001, min_split_gain=0.0,\n",
       "              n_estimators=1000, n_jobs=-1, num_leaves=31, objective=None,\n",
       "              random_state=42, reg_alpha=0.0, reg_lambda=0.0, silent=True,\n",
       "              subsample=1.0, subsample_for_bin=200000, subsample_freq=0)"
      ]
     },
     "execution_count": 18,
     "metadata": {},
     "output_type": "execute_result"
    }
   ],
   "source": [
    "lgbm_random_cv.best_estimator_"
   ]
  },
  {
   "cell_type": "markdown",
   "metadata": {},
   "source": [
    "After hyperparameter tuning, best set of hyperpramaters are determined as:\n",
    "\n",
    "* boosting_type: gbdt\n",
    "* n_estimators: 1000\n",
    "* colsample_bytree: 0.5\n",
    "* learning_rate: 0.02"
   ]
  },
  {
   "cell_type": "markdown",
   "metadata": {},
   "source": [
    "### Revisit MSE"
   ]
  },
  {
   "cell_type": "code",
   "execution_count": 19,
   "metadata": {},
   "outputs": [],
   "source": [
    "lgbm_random_cv_model = lgbm_random_cv.best_estimator_"
   ]
  },
  {
   "cell_type": "code",
   "execution_count": 20,
   "metadata": {},
   "outputs": [
    {
     "name": "stdout",
     "output_type": "stream",
     "text": [
      "MSE of light gradient boosting algorithm 4.853705411207822\n",
      "CPU times: user 5.7 s, sys: 62 ms, total: 5.76 s\n",
      "Wall time: 773 ms\n"
     ]
    }
   ],
   "source": [
    "%%time\n",
    "lgbm = lgb.LGBMRegressor(random_state=42)\n",
    "mse_lgbm_rcv = fit_evaluate_model(lgbm_random_cv_model,\n",
    "                                  X_train_array,\n",
    "                                  y_train_array,\n",
    "                                  X_valid_array,\n",
    "                                  y_valid_array)\n",
    "\n",
    "print(\"MSE of light gradient boosting algorithm\", mse_lgbm_rcv)"
   ]
  },
  {
   "cell_type": "markdown",
   "metadata": {},
   "source": [
    "MSE decreased from 4.97 to 4.85, which is a 3% improvement compared to light gbm built with default parameters, at a higher run-time."
   ]
  },
  {
   "cell_type": "markdown",
   "metadata": {},
   "source": [
    "### Random Forests"
   ]
  },
  {
   "cell_type": "markdown",
   "metadata": {},
   "source": [
    "Parameters to be optimized:\n",
    "\n",
    "* n_estimators: number of trees to be used in the model, default is 100.\n",
    "* min_samples_split: minimum number of samples required to split an internal node, default value is 2.\n",
    "* min_samples_leaf: minimum number of samples required to be at a leaf node, default value is 1.\n",
    "* max_features: number of features to consider when looking for the best split, default value is auto."
   ]
  },
  {
   "cell_type": "code",
   "execution_count": 21,
   "metadata": {},
   "outputs": [],
   "source": [
    "# define search parameters\n",
    "n_estimators = [100, 200, 300, 500, 1000]\n",
    "min_samples_split = [2, 4, 6, 10]\n",
    "min_samples_leaf = [1, 2, 4, 6, 8]\n",
    "max_features = ['auto', 'sqrt', 'log2', None]\n",
    "\n",
    "# Define the grid of hyperparameters to search\n",
    "hyperparameter_grid = {\"n_estimators\": n_estimators,\n",
    "                       \"min_samples_split\": min_samples_split,\n",
    "                       \"min_samples_leaf\": min_samples_leaf,\n",
    "                       \"max_features\": max_features\n",
    "                       }"
   ]
  },
  {
   "cell_type": "code",
   "execution_count": 22,
   "metadata": {},
   "outputs": [
    {
     "name": "stdout",
     "output_type": "stream",
     "text": [
      "Fitting 4 folds for each of 25 candidates, totalling 100 fits\n"
     ]
    },
    {
     "name": "stderr",
     "output_type": "stream",
     "text": [
      "[Parallel(n_jobs=-1)]: Using backend LokyBackend with 8 concurrent workers.\n",
      "[Parallel(n_jobs=-1)]: Done  34 tasks      | elapsed:  1.1min\n",
      "[Parallel(n_jobs=-1)]: Done 100 out of 100 | elapsed:  2.0min finished\n",
      "/Users/cereniyim/opt/anaconda3/lib/python3.7/site-packages/sklearn/model_selection/_search.py:739: DataConversionWarning: A column-vector y was passed when a 1d array was expected. Please change the shape of y to (n_samples,), for example using ravel().\n",
      "  self.best_estimator_.fit(X, y, **fit_params)\n"
     ]
    },
    {
     "data": {
      "text/plain": [
       "RandomizedSearchCV(cv=4, error_score=nan,\n",
       "                   estimator=RandomForestRegressor(bootstrap=True,\n",
       "                                                   ccp_alpha=0.0,\n",
       "                                                   criterion='mse',\n",
       "                                                   max_depth=None,\n",
       "                                                   max_features='auto',\n",
       "                                                   max_leaf_nodes=None,\n",
       "                                                   max_samples=None,\n",
       "                                                   min_impurity_decrease=0.0,\n",
       "                                                   min_impurity_split=None,\n",
       "                                                   min_samples_leaf=1,\n",
       "                                                   min_samples_split=2,\n",
       "                                                   min_weight_fraction_leaf=0.0,\n",
       "                                                   n_estimators=100,\n",
       "                                                   n_jobs=None, oob_score=False,\n",
       "                                                   random_state=42, verbose=0,\n",
       "                                                   warm_start=False),\n",
       "                   iid='deprecated', n_iter=25, n_jobs=-1,\n",
       "                   param_distributions={'max_features': ['auto', 'sqrt', 'log2',\n",
       "                                                         None],\n",
       "                                        'min_samples_leaf': [1, 2, 4, 6, 8],\n",
       "                                        'min_samples_split': [2, 4, 6, 10],\n",
       "                                        'n_estimators': [100, 200, 300, 500,\n",
       "                                                         1000]},\n",
       "                   pre_dispatch='2*n_jobs', random_state=42, refit=True,\n",
       "                   return_train_score=True, scoring='neg_mean_squared_error',\n",
       "                   verbose=1)"
      ]
     },
     "execution_count": 22,
     "metadata": {},
     "output_type": "execute_result"
    }
   ],
   "source": [
    "# create randomized search object\n",
    "rf_random_cv = RandomizedSearchCV(estimator=rf,\n",
    "                                  param_distributions=hyperparameter_grid,\n",
    "                                  cv=4, n_iter=25,\n",
    "                                  scoring='neg_mean_squared_error',\n",
    "                                  n_jobs=-1, verbose=1,\n",
    "                                  return_train_score=True,\n",
    "                                  random_state=42)\n",
    "\n",
    "rf_random_cv.fit(X, y)"
   ]
  },
  {
   "cell_type": "code",
   "execution_count": 23,
   "metadata": {},
   "outputs": [
    {
     "data": {
      "text/plain": [
       "RandomForestRegressor(bootstrap=True, ccp_alpha=0.0, criterion='mse',\n",
       "                      max_depth=None, max_features='sqrt', max_leaf_nodes=None,\n",
       "                      max_samples=None, min_impurity_decrease=0.0,\n",
       "                      min_impurity_split=None, min_samples_leaf=2,\n",
       "                      min_samples_split=4, min_weight_fraction_leaf=0.0,\n",
       "                      n_estimators=200, n_jobs=None, oob_score=False,\n",
       "                      random_state=42, verbose=0, warm_start=False)"
      ]
     },
     "execution_count": 23,
     "metadata": {},
     "output_type": "execute_result"
    }
   ],
   "source": [
    "rf_random_cv.best_estimator_"
   ]
  },
  {
   "cell_type": "markdown",
   "metadata": {},
   "source": [
    "After hyperparameter tuning, best set of hyperpramaters are determined as:\n",
    "\n",
    "* n_estimators: 200\n",
    "* min_samples_split: 4\n",
    "* min_samples_leaf: 2\n",
    "* max_features: sqrt"
   ]
  },
  {
   "cell_type": "markdown",
   "metadata": {},
   "source": [
    "### Revisit MSE"
   ]
  },
  {
   "cell_type": "code",
   "execution_count": 24,
   "metadata": {},
   "outputs": [],
   "source": [
    "rf_random_cv_model = rf_random_cv.best_estimator_"
   ]
  },
  {
   "cell_type": "code",
   "execution_count": 25,
   "metadata": {},
   "outputs": [
    {
     "name": "stdout",
     "output_type": "stream",
     "text": [
      "MSE of random forests algorithm 4.990440242105872\n",
      "CPU times: user 1.08 s, sys: 27.3 ms, total: 1.11 s\n",
      "Wall time: 1.11 s\n"
     ]
    }
   ],
   "source": [
    "%%time\n",
    "mse_rf_rcv = fit_evaluate_model(rf_random_cv_model,\n",
    "                                X_train_array,\n",
    "                                y_train_array,\n",
    "                                X_valid_array,\n",
    "                                y_valid_array)\n",
    "\n",
    "print(\"MSE of random forests algorithm\", mse_rf_rcv)"
   ]
  },
  {
   "cell_type": "markdown",
   "metadata": {},
   "source": [
    "## Summary and Selected Model"
   ]
  },
  {
   "cell_type": "markdown",
   "metadata": {},
   "source": [
    "We have started out with the baseline mean square error of 9.01. Linear regression, k-nearest neighbors, support vector machines and extra trees regressor could only beat the baseline metric with a slight difference. Thus they are eliminated from the potential good predictor models list.\n",
    "\n",
    "Random forests and light gradient boosting machines have beaten the baseline MSE with more than 40% which is a significant improvement. Thus they are selected as potential good predictors. \n",
    "\n",
    "Hyperparameter tuning is performed on the potential good predictors, where we searched for the more suitable parameters for a given feature set. Light GBM's MSE improved from 4.97 to 4.85, and tuned model's run-time resulted in 1.17 seconds. On the other hand, random forests MSE is improved more after the hyperparamater tuning. Its MSE is decreased from 5.41 to 4.99 and tuned model's run-time resulted in 1.13 seconds which is lower than the initial random forests model.\n",
    "\n",
    "Although tuned light GBM's MSE is lower than the tuned random forests model, we will select the random forests algorithm as our predictor. Our aim was to show a good prediction of wine points is possible by using machine learning models, and tuned random forests model has already satisfied that requirement.\n",
    "\n",
    "Other important considerations of our model selection is the improvement on the MSE between the initial and tuned model, algorithm explainability and model run-times. \n",
    "\n",
    "Let's save our fine-tuned random forests model as output of this file, and continue by trainin our model on the whole train set in the last notebook. "
   ]
  },
  {
   "cell_type": "code",
   "execution_count": 26,
   "metadata": {},
   "outputs": [],
   "source": [
    "filename = 'random_forest_model.sav'\n",
    "pickle.dump(rf_random_cv_model, \n",
    "            open(filename, 'wb'))"
   ]
  },
  {
   "cell_type": "code",
   "execution_count": null,
   "metadata": {},
   "outputs": [],
   "source": []
  }
 ],
 "metadata": {
  "kernelspec": {
   "display_name": "Python 3",
   "language": "python",
   "name": "python3"
  },
  "language_info": {
   "codemirror_mode": {
    "name": "ipython",
    "version": 3
   },
   "file_extension": ".py",
   "mimetype": "text/x-python",
   "name": "python",
   "nbconvert_exporter": "python",
   "pygments_lexer": "ipython3",
   "version": "3.7.6"
  },
  "latex_envs": {
   "LaTeX_envs_menu_present": true,
   "autoclose": false,
   "autocomplete": true,
   "bibliofile": "biblio.bib",
   "cite_by": "apalike",
   "current_citInitial": 1,
   "eqLabelWithNumbers": true,
   "eqNumInitial": 1,
   "hotkeys": {
    "equation": "Ctrl-E",
    "itemize": "Ctrl-I"
   },
   "labels_anchors": false,
   "latex_user_defs": false,
   "report_style_numbering": false,
   "user_envs_cfg": false
  },
  "toc": {
   "base_numbering": 1,
   "nav_menu": {},
   "number_sections": true,
   "sideBar": true,
   "skip_h1_title": false,
   "title_cell": "Table of Contents",
   "title_sidebar": "Contents",
   "toc_cell": false,
   "toc_position": {
    "height": "calc(100% - 180px)",
    "left": "10px",
    "top": "150px",
    "width": "310.434px"
   },
   "toc_section_display": true,
   "toc_window_display": true
  },
  "varInspector": {
   "cols": {
    "lenName": 16,
    "lenType": 16,
    "lenVar": 40
   },
   "kernels_config": {
    "python": {
     "delete_cmd_postfix": "",
     "delete_cmd_prefix": "del ",
     "library": "var_list.py",
     "varRefreshCmd": "print(var_dic_list())"
    },
    "r": {
     "delete_cmd_postfix": ") ",
     "delete_cmd_prefix": "rm(",
     "library": "var_list.r",
     "varRefreshCmd": "cat(var_dic_list()) "
    }
   },
   "oldHeight": 577.18778,
   "position": {
    "height": "348.177px",
    "left": "1162.57px",
    "right": "20px",
    "top": "68.8715px",
    "width": "353.056px"
   },
   "types_to_exclude": [
    "module",
    "function",
    "builtin_function_or_method",
    "instance",
    "_Feature"
   ],
   "varInspector_section_display": "block",
   "window_display": false
  }
 },
 "nbformat": 4,
 "nbformat_minor": 4
}
